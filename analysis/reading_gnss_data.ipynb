{
 "cells": [
  {
   "cell_type": "code",
   "execution_count": 19,
   "metadata": {},
   "outputs": [],
   "source": [
    "import numpy\n",
    "from matplotlib import pyplot as matpyplot\n",
    "\n",
    "import pickle\n",
    "from collections import Counter"
   ]
  },
  {
   "cell_type": "code",
   "execution_count": 20,
   "metadata": {},
   "outputs": [
    {
     "name": "stdout",
     "output_type": "stream",
     "text": [
      "Quantity of messages: 6803\n"
     ]
    }
   ],
   "source": [
    "with open(\n",
    "    '../data/20240416/'\n",
    "    'gnss_test_raw_data_1713259484.0477698.pickle', 'rb'\n",
    ") as handle:    \n",
    "    ubxmsg_data = pickle.load(handle)\n",
    "\n",
    "print(f'Quantity of messages: {len(ubxmsg_data)}')"
   ]
  },
  {
   "cell_type": "markdown",
   "metadata": {},
   "source": [
    "# Describing the content of the file\n",
    "\n",
    "- Types of messages\n",
    "- Quantity of messages per type\n",
    "- Duration of the recording (inspection of timestamps)"
   ]
  },
  {
   "cell_type": "code",
   "execution_count": 21,
   "metadata": {},
   "outputs": [],
   "source": [
    "def inspect_ubxmsg_data(ubxmsg_data_record):\n",
    "    MSGS_IDs =  []\n",
    "    MSGS_IDs_count = Counter()\n",
    "\n",
    "    init_ts = None\n",
    "    final_ts = None\n",
    "\n",
    "    for ubx_msg_ts in ubxmsg_data_record:\n",
    "        ubxmsg = ubx_msg_ts[0]\n",
    "\n",
    "        if init_ts is None:\n",
    "            init_ts = ubx_msg_ts[1]\n",
    "        final_ts = ubx_msg_ts[1]\n",
    "\n",
    "        if ubxmsg:\n",
    "            if not ubxmsg.identity in MSGS_IDs:\n",
    "                print(str(ubxmsg.identity))\n",
    "                MSGS_IDs.append(ubxmsg.identity)\n",
    "        \n",
    "            MSGS_IDs_count.update({f\"{ubxmsg.identity}\": 1})\n",
    "\n",
    "    total_recording_time = final_ts - init_ts\n",
    "\n",
    "    print(len(MSGS_IDs))\n",
    "    print(MSGS_IDs_count.items())\n",
    "    print(f'Data recording started at: {init_ts}')\n",
    "    print(f'Data recording ended at: {final_ts}')\n",
    "    print(\n",
    "        f'Data recording duration: {total_recording_time} sec'\n",
    "        f' OR {(total_recording_time) / 60} min'\n",
    "    )"
   ]
  },
  {
   "cell_type": "code",
   "execution_count": 22,
   "metadata": {},
   "outputs": [
    {
     "name": "stdout",
     "output_type": "stream",
     "text": [
      "GNVTG\n",
      "GNGGA\n",
      "GNGSA\n",
      "GPGSV\n",
      "GLGSV\n",
      "GAGSV\n",
      "GBGSV\n",
      "NAV-SAT\n",
      "NAV-SIG\n",
      "NAV-DOP\n",
      "RXM-MEASX\n",
      "GNRMC\n",
      "GNTXT\n",
      "13\n",
      "dict_items([('GNVTG', 401), ('GNGGA', 401), ('GNGSA', 1604), ('GPGSV', 1799), ('GLGSV', 1033), ('GAGSV', 109), ('GBGSV', 49), ('NAV-SAT', 43), ('NAV-SIG', 41), ('NAV-DOP', 51), ('RXM-MEASX', 400), ('GNRMC', 400), ('GNTXT', 72)])\n",
      "Data recording started at: 1713259484.04777\n",
      "Data recording ended at: 1713259484.04777\n",
      "Data recording duration: 0.0 sec OR 0.0 min\n"
     ]
    }
   ],
   "source": [
    "# Second closer data\n",
    "inspect_ubxmsg_data(ubxmsg_data)"
   ]
  },
  {
   "cell_type": "markdown",
   "metadata": {},
   "source": [
    "# Analyzing Messages batch"
   ]
  },
  {
   "cell_type": "markdown",
   "metadata": {},
   "source": [
    "Go through the first message and capture the first identity - then repeat until the same id appears."
   ]
  },
  {
   "cell_type": "code",
   "execution_count": 23,
   "metadata": {},
   "outputs": [
    {
     "name": "stdout",
     "output_type": "stream",
     "text": [
      "(NMEAMessage('GN','VTG', 0, payload=['26.62', 'T', '', 'M', '0.885', 'N', '1.639', 'K', 'A']), 1713259484.04777)\n",
      "(NMEAMessage('GN','GGA', 0, payload=['092444.00', '6026.69592', 'N', '02218.89658', 'E', '1', '07', '1.78', '64.7', 'M', '18.7', 'M', '', '']), 1713259484.04777)\n",
      "(NMEAMessage('GN','GSA', 0, payload=['A', '3', '29', '12', '31', '20', '25', '', '', '', '', '', '', '', '3.69', '1.78', '3.24', '1']), 1713259484.04777)\n",
      "(NMEAMessage('GN','GSA', 0, payload=['A', '3', '73', '67', '', '', '', '', '', '', '', '', '', '', '3.69', '1.78', '3.24', '2']), 1713259484.04777)\n",
      "(NMEAMessage('GN','GSA', 0, payload=['A', '3', '', '', '', '', '', '', '', '', '', '', '', '', '3.69', '1.78', '3.24', '3']), 1713259484.04777)\n",
      "(NMEAMessage('GN','GSA', 0, payload=['A', '3', '', '', '', '', '', '', '', '', '', '', '', '', '3.69', '1.78', '3.24', '4']), 1713259484.04777)\n",
      "(NMEAMessage('GP','GSV', 0, payload=['2', '1', '08', '04', '14', '342', '08', '05', '10', '117', '10', '12', '26', '124', '22', '20', '25', '088', '15', '1']), 1713259484.04777)\n",
      "(NMEAMessage('GP','GSV', 0, payload=['2', '2', '08', '25', '54', '142', '20', '28', '46', '248', '17', '29', '70', '219', '20', '31', '41', '290', '11', '1']), 1713259484.04777)\n",
      "(NMEAMessage('GP','GSV', 0, payload=['1', '1', '04', '04', '14', '342', '17', '12', '26', '124', '27', '25', '54', '142', '16', '29', '70', '219', '25', '6']), 1713259484.04777)\n",
      "(NMEAMessage('GP','GSV', 0, payload=['1', '1', '03', '06', '06', '033', '', '11', '35', '056', '', '26', '22', '294', '', '0']), 1713259484.04777)\n",
      "(NMEAMessage('GL','GSV', 0, payload=['1', '1', '02', '67', '11', '047', '22', '73', '40', '155', '29', '1']), 1713259484.04777)\n",
      "(NMEAMessage('GL','GSV', 0, payload=['1', '1', '01', '73', '40', '155', '27', '3']), 1713259484.04777)\n",
      "(NMEAMessage('GL','GSV', 0, payload=['1', '1', '03', '65', '09', '309', '', '66', '22', '357', '', '75', '31', '314', '', '0']), 1713259484.04777)\n",
      "(NMEAMessage('GA','GSV', 0, payload=['1', '1', '00', '0']), 1713259484.04777)\n",
      "(NMEAMessage('GB','GSV', 0, payload=['1', '1', '00', '0']), 1713259484.04777)\n",
      "(UBXMessage(b'\\x01', b'5', 0, payload=b'\\xb0\\x05R\\x0c\\x01\\x13\\x00\\x00\\x00\\x04\\x08\\x0eV\\x01\\x13\\xfc\\x13\\x19\\x00\\x00\\x00\\x05\\n\\nu\\x00J\\x03\\x13\\x19\\x00\\x00\\x00\\x06\\x00\\x06!\\x00\\x00\\x00\\x11\\x12\\x00\\x00\\x00\\x0b\\x00#8\\x00\\x00\\x00\\x11\\x12\\x00\\x00\\x00\\x0c\\x16\\x1a|\\x00K\\x00\\x1c\\t\\x00\\x00\\x00\\x14\\x0f\\x19X\\x00\\xd5\\x00\\x1c\\x19\\x00\\x00\\x00\\x19\\x146\\x8e\\x00\\xc0\\xff\\x1c\\x19\\x00\\x00\\x00\\x1a\\x00\\x16&\\x01\\x00\\x00\\x11\\x12\\x00\\x00\\x00\\x1c\\x11.\\xf8\\x00\\x00\\x00\\x14\\x12\\x00\\x00\\x00\\x1d\\x14F\\xdb\\x00\\x13\\x00\\x1c\\t\\x00\\x00\\x00\\x1f\\x0b)\"\\x01#\\x03\\x1c\\x19\\x00\\x00\\x01{\\x00\\x15\\xa9\\x00\\x00\\x00\\x01\\x07\\x00\\x00\\x01~\\x00\\r\\x86\\x00\\x00\\x00\\x01\\x07\\x00\\x00\\x01\\x7f\\x00\\x10\\x90\\x00\\x00\\x00\\x01\\x07\\x00\\x00\\x06\\x01\\x00\\t5\\x01\\x00\\x00\\x11\\x12\\x00\\x00\\x06\\x02\\x00\\x16e\\x01\\x00\\x00\\x11\\x19\\x00\\x00\\x06\\x03\\x16\\x0b/\\x00\\x0c\\xff\\x1c\\x19\\x00\\x00\\x06\\t\\x1d(\\x9b\\x00\\xe3\\xff\\x1f\\t\\x00\\x00\\x06\\x0b\\x00\\x1f:\\x01\\x00\\x00\\x11\\x12\\x00\\x00'), 1713259484.04777)\n",
      "(UBXMessage(b'\\x01', b'C', 0, payload=b'\\xb0\\x05R\\x0c\\x00 \\x00\\x00\\x00\\x04\\x00\\x00\\x13\\xfc\\x08\\x03\\x00\\x00\\x01\\x00\\x00\\x00\\x00\\x00\\x00\\x04\\x03\\x00\\x9e\\x00\\x11\\x03\\x00\\x00\\x01\\x00\\x00\\x00\\x00\\x00\\x00\\x05\\x00\\x00J\\x03\\n\\x03\\x00\\x00\\x01\\x00\\x00\\x00\\x00\\x00\\x00\\x06\\x00\\x00\\x00\\x00\\x00\\x01\\x00\\x00\\x01\\x00\\x00\\x00\\x00\\x00\\x00\\x06\\x04\\x00\\x00\\x00\\x00\\x01\\x00\\x00\\x01\\x00\\x00\\x00\\x00\\x00\\x00\\x0b\\x00\\x00\\x00\\x00\\x00\\x01\\x00\\x00\\x01\\x00\\x00\\x00\\x00\\x00\\x00\\x0b\\x04\\x00\\x00\\x00\\x00\\x01\\x00\\x00\\x01\\x00\\x00\\x00\\x00\\x00\\x00\\x0c\\x00\\x00K\\x00\\x16\\x04\\x00\\x00)\\x00\\x00\\x00\\x00\\x00\\x00\\x0c\\x03\\x00\\xd9\\xff\\x1b\\x07\\x00\\x00)\\x00\\x00\\x00\\x00\\x00\\x00\\x14\\x00\\x00\\xd5\\x00\\x0f\\x04\\x00\\x00)\\x00\\x00\\x00\\x00\\x00\\x00\\x14\\x04\\x00\\x00\\x00\\x00\\x01\\x00\\x00\\x01\\x00\\x00\\x00\\x00\\x00\\x00\\x19\\x00\\x00\\xc0\\xff\\x14\\x04\\x00\\x00)\\x00\\x00\\x00\\x00\\x00\\x00\\x19\\x03\\x00\\xa4\\xff\\x10\\x04\\x00\\x00)\\x00\\x00\\x00\\x00\\x00\\x00\\x1a\\x00\\x00\\x00\\x00\\x00\\x01\\x00\\x00\\x01\\x00\\x00\\x00\\x00\\x00\\x00\\x1a\\x04\\x00\\x00\\x00\\x00\\x01\\x00\\x00\\x01\\x00\\x00\\x00\\x00\\x00\\x00\\x1c\\x00\\x00\\x00\\x00\\x11\\x04\\x00\\x00\\x01\\x00\\x00\\x00\\x00\\x00\\x00\\x1d\\x00\\x00\\x13\\x00\\x14\\x04\\x00\\x00)\\x00\\x00\\x00\\x00\\x00\\x00\\x1d\\x03\\x00D\\x00\\x19\\x07\\x00\\x00)\\x00\\x00\\x00\\x00\\x00\\x00\\x1f\\x00\\x00#\\x03\\x0b\\x04\\x00\\x00)\\x00\\x00\\x00\\x00\\x00\\x00\\x1f\\x04\\x00\\x00\\x00\\x00\\x01\\x00\\x00\\x01\\x00\\x00\\x00\\x00\\x00\\x01{\\x00\\x00\\x00\\x00\\x00\\x01\\x00\\x00\\x00\\x00\\x00\\x00\\x00\\x00\\x01~\\x00\\x00\\x00\\x00\\x00\\x01\\x00\\x00\\x00\\x00\\x00\\x00\\x00\\x00\\x01\\x7f\\x00\\x00\\x00\\x00\\x00\\x01\\x00\\x00\\x00\\x00\\x00\\x00\\x00\\x00\\x06\\x01\\x00\\x08\\x00\\x00\\x00\\x01\\x00\\x00\\x01\\x00\\x00\\x00\\x00\\x00\\x06\\x01\\x02\\x08\\x00\\x00\\x00\\x01\\x00\\x00\\x01\\x00\\x00\\x00\\x00\\x00\\x06\\x02\\x00\\x03\\x00\\x00\\x00\\x01\\x00\\x00\\x01\\x00\\x00\\x00\\x00\\x00\\x06\\x02\\x02\\x03\\x00\\x00\\x00\\x01\\x00\\x00\\x01\\x00\\x00\\x00\\x00\\x00\\x06\\x03\\x00\\x0c\\x0c\\xff\\x16\\x04\\x00\\x00)\\x00\\x00\\x00\\x00\\x00\\x06\\t\\x02\\x05\\x9f\\xff\\x1b\\x06\\x00\\x00)\\x00\\x00\\x00\\x00\\x00\\x06\\t\\x00\\x05\\xe3\\xff\\x1d\\x07\\x00\\x00)\\x00\\x00\\x00\\x00\\x00\\x06\\x0b\\x00\\x07\\x00\\x00\\x00\\x01\\x00\\x00\\x01\\x00\\x00\\x00\\x00\\x00\\x06\\x0b\\x02\\x07\\x00\\x00\\x00\\x01\\x00\\x00\\x01\\x00\\x00\\x00\\x00\\x00'), 1713259484.04777)\n",
      "(UBXMessage(b'\\x01', b'\\x04', 0, payload=b'\\xb0\\x05R\\x0c\\xa9\\x01q\\x01\\xd2\\x00D\\x01\\xb2\\x00\\x83\\x00x\\x00'), 1713259484.04777)\n",
      "(None, 1713259484.04777)\n",
      "(UBXMessage(b'\\x02', b'\\x14', 0, payload=b'\\x01\\x00\\x00\\x00x\\x06R\\x0c\\xa8\\x8b\\xf6\\x0c\\xc8\\xcfQ\\x0cx\\x06R\\x0cx\\x06R\\x0c\\x00\\x00\\x00\\x00\\x00\\x00\\x00\\x00\\x00\\x00\\r.\\x00\\x00\\x00\\x00\\x00\\x00\\x00\\x00\\x06\\t\\x1b\\x01\\xba\\xc6\\xff\\xffm\\xd0\\xff\\xffn\\x00:\\x00]\\xe4\\x06\\x00\\x00\\x11\\x00\\x00\\x00\\x1d\\x19\\x01\\xa5\\x1c\\x00\\x00v\\x17\\x00\\x00\\xff\\xff\\xc3\\x02in\\xadL\\xff\\x0f\\x00\\x00\\x00\\x04\\x10\\x01\\xfd\\x13\\x00\\x00_\\x10\\x00\\x00\\xff\\xff\\xc1\\x01\\x08\\t(N\\xff:\\x00\\x00\\x00\\x0c\\x1b\\x01i\\xc3\\xff\\xffa\\xce\\xff\\xff\\xff\\xff!\\x02\\xff\\xe1\\xc5M\\xff\\x0e\\x00\\x00\\x00\\x04\\x08\\x03\\xf2\\x13\\x00\\x00\\xf7\\x14\\x00\\x00\\x01\\x01\\xf7\\x00\\xf3\\x0b\\x08\\x00\\x00?\\x00\\x00\\x00\\x1d\\x13\\x01p\\x1c\\x00\\x00\\xe3\\x1d\\x00\\x00\\xad\\x01~\\x01Xn\\r\\x00\\x00 \\x00\\x00\\x00\\x1c\\x11\\x01b\\xee\\xff\\xff|\\xed\\xff\\xffz\\x03s\\x00\\xde\\xd7\\x1b\\x00\\x00\\x19\\x00\\x00\\x06\\x03\\x16\\x01\\x83?\\x00\\x00\\xffC\\x00\\x00\\x8d\\x00L\\x02\\xa0\\xdd\\x08\\x00\\x00\\x1c\\x00\\x00\\x06\\t\\x1d\\x01\\xbb\\xc6\\xff\\xff\\xd6\\xc2\\xff\\xffn\\x00\\x11\\x00\\xb6\\xe3\\x06\\x00\\x00\\x0f\\x00\\x00\\x00\\x19\\x14\\x01\\xa8\\xd8\\xff\\xff\\xa6\\xd6\\xff\\xff~\\x01y\\x02\\xf2\\xf7\\x0b\\x00\\x00\\x1c\\x00\\x00\\x00\\x14\\x0f\\x01;(\\x00\\x00H*\\x00\\x00\\x96\\x03x\\x00 \\xb8\\x1c\\x00\\x00\\x1b\\x00\\x00\\x00\\x05\\n\\x03\\xf9F\\x00\\x00\\x98J\\x00\\x00\\xc8\\x03\\x92\\x03\\xb8N\\x1e\\x00\\x00?\\x00\\x00\\x00\\x0c\\x15\\x01\\x15\\xc3\\xff\\xff\\xfa\\xbf\\xff\\xff\\xbb\\x00\\xfe\\x03t\\xe1\\x05\\x00\\x00 \\x00\\x00'), 1713259484.04777)\n"
     ]
    }
   ],
   "source": [
    "for n in range(0, 20):\n",
    "    print(ubxmsg_data[n])"
   ]
  },
  {
   "cell_type": "code",
   "execution_count": 24,
   "metadata": {},
   "outputs": [],
   "source": [
    "def building_batches_ubxmsg_data(\n",
    "        ubxmsg_data_record,\n",
    "        skip_msgs_list=[],\n",
    "):\n",
    "    # This block of code captures the batch of messages in the whole list.\n",
    "    # Whenever the cycle of messages repeats itself the batch of messages is stored\n",
    "    starting_id = None\n",
    "\n",
    "    MSGS_BATCH = []\n",
    "    ALL_MSGS = []\n",
    "    for i, ubxmsg in enumerate(ubxmsg_data_record):\n",
    "        ubxmsg_info = ubxmsg[0]\n",
    "\n",
    "        if ubxmsg_info:\n",
    "            if ubxmsg_info.identity in skip_msgs_list:\n",
    "                continue\n",
    "\n",
    "            if starting_id is None:\n",
    "                starting_id = ubxmsg_info.identity\n",
    "\n",
    "            if ubxmsg_info.identity == starting_id:\n",
    "                if MSGS_BATCH:\n",
    "                    ALL_MSGS.append(MSGS_BATCH)\n",
    "                MSGS_BATCH = [ubxmsg_info]\n",
    "            else:\n",
    "                MSGS_BATCH.append(ubxmsg_info)\n",
    "    ALL_MSGS.append(MSGS_BATCH)\n",
    "\n",
    "    print(f'Batch of messages captured: {len(ALL_MSGS)}')\n",
    "    return ALL_MSGS"
   ]
  },
  {
   "cell_type": "code",
   "execution_count": 25,
   "metadata": {},
   "outputs": [
    {
     "name": "stdout",
     "output_type": "stream",
     "text": [
      "Batch of messages captured: 401\n"
     ]
    }
   ],
   "source": [
    "ALL_MSGS_CLOSER = building_batches_ubxmsg_data(ubxmsg_data)"
   ]
  },
  {
   "cell_type": "markdown",
   "metadata": {},
   "source": [
    "# Extracting the features at each batch"
   ]
  },
  {
   "cell_type": "markdown",
   "metadata": {},
   "source": [
    "## Features description\n",
    "\n",
    "- Carrier to Noise Ratio\n",
    "- Doppler Measurement\n",
    "- Pseudorange Residual\n",
    "- PDOP, HDOP, VDOP, TDOP\n",
    "- Elevation\n",
    "- Azymuth\n",
    "- N of visible satellites\n",
    "- Multipath Indicator\n",
    "- Pseudorange RMS error\n",
    "- Standard Deviation of Latitute Error\n",
    "- Standard Deviation of Longitude Error\n",
    "- Range RMS\n",
    "- Noise Level (by GPS Core)"
   ]
  },
  {
   "cell_type": "markdown",
   "metadata": {},
   "source": [
    "## Where to get the features?\n",
    "\n",
    "- UBX-NAV-SAT: Carrier Noise Ratio, Pseudorange Residual, Elevation, Azymuth, #VS\n",
    "- UBX-RXM-MEASX: Carrier Noise Ratio, Doppler Measurement, #VS, Multipath Indicator, PR RMS error\n",
    "- UBX-NAV-DOP: HDOP, VDOP, PDOP, TDOP\n",
    "- NMEA-ST-GST: Standard Deviation of Latitude and Longitude Errors, Range RMS\n",
    "- UBX-MON-RF: Noise Level (GPS Core)"
   ]
  },
  {
   "cell_type": "markdown",
   "metadata": {},
   "source": [
    "### Code"
   ]
  },
  {
   "cell_type": "markdown",
   "metadata": {},
   "source": [
    "#### Batch Message Structure\n",
    "\n",
    "A batch message contains all the features and relevant info to store in one\n",
    "sample. A batch is collected when the receiver outputs all different messages\n",
    "before repeating them again."
   ]
  },
  {
   "cell_type": "code",
   "execution_count": 26,
   "metadata": {},
   "outputs": [],
   "source": [
    "class Satellite:\n",
    "    def __init__(\n",
    "            self, gnss_id=None, sat_id=None, cn_ratio=0, pse_res=0,\n",
    "            doppler_meas=0, hdop=0, vdop=0, pdop=0, tdop=0,\n",
    "            elevation=0, azymuth=0, n_vis_sat=0, batch_number=0,\n",
    "            multipath_ind=None, pr_rms=0, std_lat_err=0, std_lon_err=0,\n",
    "            range_rms=0, noise_lvl_gpscore=0\n",
    "        ) -> None:\n",
    "\n",
    "        self.gnss_id = gnss_id\n",
    "        self.sat_id = sat_id\n",
    "        self.cn_ratio = cn_ratio\n",
    "        self.pse_res = pse_res\n",
    "        self.doppler_meas = doppler_meas\n",
    "        self.hdop=hdop\n",
    "        self.vdop=vdop\n",
    "        self.pdop=pdop\n",
    "        self.tdop=tdop\n",
    "        self.elevation = elevation\n",
    "        self.azymuth = azymuth\n",
    "        self.n_vis_sat = n_vis_sat\n",
    "        self.multipath_ind = multipath_ind\n",
    "        self.pr_rms = pr_rms\n",
    "        self.std_lat_err = std_lat_err\n",
    "        self.std_lon_err = std_lon_err\n",
    "        self.range_rms = range_rms\n",
    "        self.noise_lvl_gpscore = noise_lvl_gpscore\n",
    "\n",
    "        self.batch_number = batch_number\n",
    "\n",
    "        self.features = []\n",
    "\n",
    "        self.full_sat_id = self.build_full_gnss_sat_id(\n",
    "            self.gnss_id, self.sat_id\n",
    "        )\n",
    "    \n",
    "    def convert_sat_data_to_list(\n",
    "            self, dops,\n",
    "            n_vis_sat,\n",
    "            std_lat_err,\n",
    "            std_lon_err,\n",
    "            range_rms,\n",
    "            noise_lvl_gpscore\n",
    "        ):\n",
    "        # Update DOPs to ensure they have the general value - if it exists\n",
    "        if dops:\n",
    "            self.hdop = dops[0]\n",
    "            self.vdop = dops[1]\n",
    "            self.pdop = dops[2]\n",
    "            self.tdop = dops[3]\n",
    "\n",
    "        self.n_vis_sat = n_vis_sat\n",
    "        self.std_lat_err = std_lat_err\n",
    "        self.std_lon_err = std_lon_err\n",
    "        self.noise_lvl_gpscore = noise_lvl_gpscore\n",
    "        self.range_rms = range_rms\n",
    "\n",
    "        return [\n",
    "            self.batch_number,\n",
    "            self.full_sat_id,\n",
    "            self.gnss_id,\n",
    "            self.sat_id,\n",
    "            self.cn_ratio,\n",
    "            self.pse_res,\n",
    "            self.doppler_meas,\n",
    "            self.hdop,\n",
    "            self.vdop,\n",
    "            self.pdop,\n",
    "            self.tdop,\n",
    "            self.elevation,\n",
    "            self.azymuth,\n",
    "            self.n_vis_sat,\n",
    "            self.multipath_ind,\n",
    "            self.pr_rms,\n",
    "            self.std_lat_err,\n",
    "            self.std_lon_err,\n",
    "            self.range_rms,\n",
    "            self.noise_lvl_gpscore,\n",
    "        ]\n",
    "\n",
    "    def build_full_gnss_sat_id(self, gnss_id, sat_id):\n",
    "        return str(gnss_id) + str(sat_id)"
   ]
  },
  {
   "cell_type": "markdown",
   "metadata": {},
   "source": [
    "Procedure to get the features\n",
    "\n",
    "1. Extract the features for each satellite in a batch and store it as a row\n",
    "indicating the satellite full ID and the batch number.\n",
    "\n",
    "The current code extracts the features following this order:\n",
    "\n",
    "- Batch, Full sat id, gnss id, sat id, CNo, PR, DM, HD, VD, PD, TD, El, Az, NSV, Multipath, PR RMS, Std LatErr, Std LonErr, Range RMS, Noise LVL"
   ]
  },
  {
   "cell_type": "code",
   "execution_count": 27,
   "metadata": {},
   "outputs": [],
   "source": [
    "# Name of the message attributes where the features are located\n",
    "\n",
    "# UBX-RXM-MEASX\n",
    "FEATURES_AS_MEASX_SAT_ATTRS = [\n",
    "    'gnssId',\n",
    "    'svId',\n",
    "    'cNo',\n",
    "    'dopplerHz',\n",
    "    'pseuRangeRMSErr',\n",
    "    'mpathIndic',\n",
    "]\n",
    "\n",
    "# UBX-NAV-SAT\n",
    "FEATURES_AS_NAVSAT_SAT_ATTRS = [\n",
    "    'gnssId',\n",
    "    'svId',\n",
    "    'cno',\n",
    "    'elev',\n",
    "    'azim',\n",
    "    'prRes',\n",
    "]\n",
    "\n",
    "# UBX-NAV-DOP\n",
    "FEATURES_AS_NAVDOP_REC_ATTRS = [\n",
    "    'pDOP',\n",
    "    'tDOP',\n",
    "    'vDOP',\n",
    "    'hDOP',\n",
    "]\n",
    "\n",
    "# UBX-MON-RF\n",
    "FEATURES_AS_MON_RF_ATTS = [\n",
    "    'noisePerMS'\n",
    "]\n",
    "\n",
    "# NMEA-ST_GST\n",
    "FEATURES_AS_GST_ATTS = [\n",
    "    'stdLat',\n",
    "    'stdLong',\n",
    "    'rangeRMS',\n",
    "]"
   ]
  },
  {
   "cell_type": "code",
   "execution_count": 28,
   "metadata": {},
   "outputs": [],
   "source": [
    "def building_nsat_id(number_of_ind_Sv: int):\n",
    "    \"\"\"\n",
    "    This function takes the satellite ID and converts it to a str to add the\n",
    "    leading zeros it needs for the attribute getter.\n",
    "\n",
    "    Parameter:\n",
    "        - number_of_ind_Sv: An int representing the individual satellite ID\n",
    "\n",
    "    Returns:\n",
    "        - nsat_name: The satellite ID as str with leading zeros as it is placed\n",
    "        in the attributes.\n",
    "    \"\"\"\n",
    "    Sv_str = str(number_of_ind_Sv)\n",
    "    nsat_name = Sv_str.zfill(2)\n",
    "\n",
    "    return nsat_name"
   ]
  },
  {
   "cell_type": "code",
   "execution_count": 29,
   "metadata": {},
   "outputs": [],
   "source": [
    "def extract_list_attrs_from_msg(\n",
    "        attrs_list,\n",
    "        ubxmsg,\n",
    "        sat_id: int\n",
    "    ):\n",
    "\n",
    "    \"\"\"\n",
    "    Goes over the attributes list and tries to find them in the ubxmsg using\n",
    "    also the satellite ID. Stores all the attributes in a list following the\n",
    "    same order than in the attributes list.\n",
    "\n",
    "    Parameter:\n",
    "        - attrs_list: A list containing the attributes from the message to\n",
    "        extract in a predetermined order.\n",
    "        - ubxmsg: The dictionary containing the complete message from the\n",
    "        receiver.\n",
    "        - sat_id: The number assigned to the satellite in the message.\n",
    "    \n",
    "    Returns:\n",
    "        - A list containing the attributes from the message according to the\n",
    "        predetermined list order.\n",
    "    \"\"\"\n",
    "\n",
    "    sat_attrs_list = []\n",
    "    for meas_attr in attrs_list:\n",
    "        sat_attr_data = getattr(ubxmsg, f'{meas_attr}_{sat_id}', None)\n",
    "        # print(f'{meas_attr} is: {sat_attr_data}')\n",
    "        sat_attrs_list.append(sat_attr_data)\n",
    "    \n",
    "    return sat_attrs_list"
   ]
  },
  {
   "cell_type": "markdown",
   "metadata": {},
   "source": [
    "### Extracting features functions"
   ]
  },
  {
   "cell_type": "code",
   "execution_count": 30,
   "metadata": {},
   "outputs": [],
   "source": [
    "def extracting_features_ubxmsgs(ubx_allmsgs_data):\n",
    "    # SATID, Batch + Features composition (columns)\n",
    "    # Batch, Full sat id, gnss id, sat id, CNo, PR, DM, HD, VD, PD, TD, El, Az, NSV, Multipath\n",
    "    ALL_MSGS_FEATURES = []\n",
    "\n",
    "    for n_batch, gnssmsgs_batch in enumerate(ubx_allmsgs_data):\n",
    "        # For every batch\n",
    "        SAT_BATCH_DATA = {}\n",
    "        std_lat_err = 0\n",
    "        std_lon_err = 0\n",
    "        range_rms = 0\n",
    "        curr_noise_lvl_gpscore = 0\n",
    "\n",
    "        sat_n_sat = 0\n",
    "\n",
    "        if len(gnssmsgs_batch) < 2:\n",
    "            continue\n",
    "\n",
    "        for data_msg in gnssmsgs_batch:\n",
    "            # Go through every msg and extract info\n",
    "\n",
    "            # DOP list to update all the satellites later (we know they are four)\n",
    "            dops = []\n",
    "            \n",
    "            if data_msg.identity == 'RXM-MEASX':\n",
    "                meas_n_sat = data_msg.numSv\n",
    "\n",
    "                for sat in range(1, meas_n_sat + 1):\n",
    "                    curr_sat_id = building_nsat_id(sat)\n",
    "                    curr_sat_attrs = extract_list_attrs_from_msg(\n",
    "                        attrs_list=FEATURES_AS_MEASX_SAT_ATTRS,\n",
    "                        ubxmsg=data_msg,\n",
    "                        sat_id=curr_sat_id\n",
    "                    )\n",
    "\n",
    "                    curr_sat = Satellite(\n",
    "                        gnss_id=curr_sat_attrs[0],\n",
    "                        sat_id=curr_sat_attrs[1],\n",
    "                        cn_ratio=curr_sat_attrs[2],\n",
    "                        doppler_meas=curr_sat_attrs[3],\n",
    "                        pr_rms=curr_sat_attrs[4],\n",
    "                        multipath_ind=curr_sat_attrs[5],\n",
    "                        batch_number=n_batch,\n",
    "                    )\n",
    "\n",
    "                    if curr_sat.full_sat_id in SAT_BATCH_DATA:\n",
    "                        # Save only the new features\n",
    "                        existing_sat = SAT_BATCH_DATA.get(curr_sat.full_sat_id)\n",
    "                        existing_sat.cn_ratio = curr_sat.cn_ratio\n",
    "                        existing_sat.doppler_meas = curr_sat.doppler_meas\n",
    "                    else:\n",
    "                        # Save a new satellite\n",
    "                        SAT_BATCH_DATA[curr_sat.full_sat_id] = curr_sat\n",
    "            \n",
    "            elif data_msg.identity == 'NAV-SAT':\n",
    "                sat_n_sat = data_msg.numSvs\n",
    "\n",
    "                for sat in range(1, sat_n_sat + 1):\n",
    "                    curr_sat_id = building_nsat_id(sat)\n",
    "                    curr_sat_attrs = extract_list_attrs_from_msg(\n",
    "                        attrs_list=FEATURES_AS_NAVSAT_SAT_ATTRS,\n",
    "                        ubxmsg=data_msg,\n",
    "                        sat_id=curr_sat_id\n",
    "                    )\n",
    "\n",
    "                    curr_sat = Satellite(\n",
    "                        gnss_id=curr_sat_attrs[0],\n",
    "                        sat_id=curr_sat_attrs[1],\n",
    "                        cn_ratio=curr_sat_attrs[2],\n",
    "                        elevation=curr_sat_attrs[3],\n",
    "                        azymuth=curr_sat_attrs[4],\n",
    "                        pse_res=curr_sat_attrs[5],\n",
    "                        batch_number=n_batch\n",
    "                    )\n",
    "\n",
    "                    if curr_sat.full_sat_id in SAT_BATCH_DATA:\n",
    "                        # Save only the new features\n",
    "                        existing_sat = SAT_BATCH_DATA.get(curr_sat.full_sat_id)\n",
    "                        existing_sat.elevation = curr_sat.elevation\n",
    "                        existing_sat.azymuth = curr_sat.azymuth\n",
    "                        existing_sat.pse_res = curr_sat.pse_res\n",
    "                    else:\n",
    "                        # Save a new satellite\n",
    "                        SAT_BATCH_DATA[curr_sat.full_sat_id] = curr_sat\n",
    "            \n",
    "            elif data_msg.identity == 'NAV-DOP':\n",
    "                # Update the values in the DOP list\n",
    "                dops.extend(\n",
    "                    [data_msg.hDOP, data_msg.vDOP, data_msg.pDOP, data_msg.tDOP]\n",
    "                )\n",
    "            \n",
    "            elif data_msg.identity == 'GNGST':\n",
    "                std_lat_err = data_msg.stdLat\n",
    "                std_lon_err = data_msg.stdLong\n",
    "                range_rms = data_msg.rangeRms\n",
    "            \n",
    "            elif data_msg.identity == 'MON-RF':\n",
    "                rf_num_blocks = data_msg.nBlocks\n",
    "                rf_block_features = numpy.zeros_like(\n",
    "                    rf_num_blocks, len(FEATURES_AS_MON_RF_ATTS)\n",
    "                )\n",
    "                for rf_block in range(1, rf_num_blocks + 1):\n",
    "                    curr_rf_block_id = building_nsat_id(rf_block)\n",
    "                    curr_rf_block_attrs = extract_list_attrs_from_msg(\n",
    "                        attrs_list=FEATURES_AS_MON_RF_ATTS,\n",
    "                        ubxmsg=data_msg,\n",
    "                        sat_id=curr_rf_block_id\n",
    "                    )\n",
    "                    rf_block_features[rf_block-1] = curr_rf_block_attrs\n",
    "                \n",
    "                curr_noise_lvl_gpscore = rf_block_features[:, 0].mean()\n",
    "\n",
    "        n_vis_sat = meas_n_sat if meas_n_sat > sat_n_sat else sat_n_sat\n",
    "        ALL_MSGS_FEATURES.extend(\n",
    "            [\n",
    "                satellite.convert_sat_data_to_list(\n",
    "                    dops, n_vis_sat,\n",
    "                    std_lat_err, std_lon_err, range_rms,\n",
    "                    curr_noise_lvl_gpscore\n",
    "                )\n",
    "                for satellite in SAT_BATCH_DATA.values()\n",
    "            ]\n",
    "        )\n",
    "\n",
    "    return ALL_MSGS_FEATURES"
   ]
  },
  {
   "cell_type": "code",
   "execution_count": 31,
   "metadata": {},
   "outputs": [],
   "source": [
    "allmsgs_features_closer = extracting_features_ubxmsgs(ALL_MSGS_CLOSER)"
   ]
  },
  {
   "cell_type": "code",
   "execution_count": 32,
   "metadata": {},
   "outputs": [
    {
     "name": "stdout",
     "output_type": "stream",
     "text": [
      "4670\n",
      "[0, '04', 0, 4, 8, -100.5, 1073.4, 0, 0, 0, 0, 14, 342, 19, None, 0, 0, 0, 0, 0]\n"
     ]
    }
   ],
   "source": [
    "print(len(allmsgs_features_closer))\n",
    "print(allmsgs_features_closer[0])"
   ]
  },
  {
   "cell_type": "markdown",
   "metadata": {},
   "source": [
    "#### Saving data for later inspection"
   ]
  },
  {
   "cell_type": "code",
   "execution_count": 33,
   "metadata": {},
   "outputs": [
    {
     "name": "stdout",
     "output_type": "stream",
     "text": [
      "\n",
      "Processing complete\n"
     ]
    }
   ],
   "source": [
    "with open(\n",
    "    f'./gnss_test_raw_data_1713259484.0477698_features.pickle',\n",
    "    'wb'\n",
    ") as handle:\n",
    "    pickle.dump(\n",
    "        allmsgs_features_closer,\n",
    "        handle,\n",
    "        protocol=pickle.HIGHEST_PROTOCOL\n",
    "    )\n",
    "\n",
    "print(\"\\nProcessing complete\")"
   ]
  },
  {
   "cell_type": "markdown",
   "metadata": {},
   "source": [
    "# Inspecting Noise Level\n",
    "\n",
    "Example to extract only one specific type of message"
   ]
  },
  {
   "cell_type": "code",
   "execution_count": 34,
   "metadata": {},
   "outputs": [],
   "source": [
    "def building_batches_single_ubxmsg_data(\n",
    "        ubxmsg_data_record,\n",
    "        msg_to_inspect=None,\n",
    "):\n",
    "    # This block of code captures the batch of messages in the whole list.\n",
    "\n",
    "    MSGS_BATCH = []\n",
    "    \n",
    "    for __, ubxmsg in enumerate(ubxmsg_data_record):\n",
    "        ubxmsg_info = ubxmsg[0]\n",
    "\n",
    "        if ubxmsg_info:\n",
    "            if ubxmsg_info.identity == msg_to_inspect:\n",
    "                rf_num_blocks = ubxmsg_info.nBlocks\n",
    "                rf_block_features = numpy.zeros_like(\n",
    "                    (rf_num_blocks, 1)\n",
    "                )\n",
    "                for rf_block in range(1, rf_num_blocks + 1):\n",
    "                    curr_rf_block_id = building_nsat_id(rf_block)\n",
    "                    curr_rf_block_attrs = extract_list_attrs_from_msg(\n",
    "                        attrs_list=FEATURES_AS_MON_RF_ATTS,\n",
    "                        ubxmsg=ubxmsg_info,\n",
    "                        sat_id=curr_rf_block_id\n",
    "                    )\n",
    "                    rf_block_features[rf_block-1] = curr_rf_block_attrs[0]\n",
    "                \n",
    "                curr_noise_lvl_gpscore = rf_block_features[:].mean()\n",
    "                MSGS_BATCH.append(curr_noise_lvl_gpscore)\n",
    "\n",
    "    print(f'Batch of messages captured: {len(MSGS_BATCH)}')\n",
    "    return numpy.array(MSGS_BATCH)"
   ]
  }
 ],
 "metadata": {
  "kernelspec": {
   "display_name": "thesis-utu-bYRLSBEj-py3.10",
   "language": "python",
   "name": "python3"
  },
  "language_info": {
   "codemirror_mode": {
    "name": "ipython",
    "version": 3
   },
   "file_extension": ".py",
   "mimetype": "text/x-python",
   "name": "python",
   "nbconvert_exporter": "python",
   "pygments_lexer": "ipython3",
   "version": "3.10.14"
  }
 },
 "nbformat": 4,
 "nbformat_minor": 2
}
